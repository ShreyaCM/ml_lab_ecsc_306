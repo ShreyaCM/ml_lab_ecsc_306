{
 "cells": [
  {
   "cell_type": "code",
   "execution_count": 3,
   "metadata": {},
   "outputs": [
    {
     "name": "stdout",
     "output_type": "stream",
     "text": [
      "Enter the value of a 5\n",
      "enter the value of b 3\n",
      "4\n"
     ]
    }
   ],
   "source": [
    "import tensorflow as tf\n",
    "tf.reset_default_graph()\n",
    "x=int(input('Enter the value of a '))\n",
    "y=int(input('enter the value of b '))\n",
    "with tf.name_scope(\"Square_Operation\"):\n",
    "    with tf.name_scope(\"Scope_a\"):\n",
    "        c=tf.multiply(x,x,name=\"Square_of_a\")\n",
    "    with tf.name_scope(\"Scope_b\"):\n",
    "        d=tf.multiply(y,y,name=\"Square_of_b\")\n",
    "    with tf.name_scope(\"Scope_C\"):\n",
    "        e=tf.multiply(x,y,name=\"Multiply_a_and_b\")\n",
    "        f=tf.multiply(2,e)\n",
    "    with tf.name_scope(\"Scope_D\"):\n",
    "        g=tf.add(c,d,name=\"Add_square_of_a_and_b\")\n",
    "        h=tf.subtract(g,f)\n",
    "\n",
    "with tf.Session() as sess:\n",
    "    writer = tf.summary.FileWriter(\"/tmp/tboard/output9\", sess.graph)\n",
    "    print(sess.run(h))\n",
    "    writer.close()"
   ]
  },
  {
   "cell_type": "code",
   "execution_count": null,
   "metadata": {
    "collapsed": true
   },
   "outputs": [],
   "source": []
  }
 ],
 "metadata": {
  "kernelspec": {
   "display_name": "Python 3",
   "language": "python",
   "name": "python3"
  },
  "language_info": {
   "codemirror_mode": {
    "name": "ipython",
    "version": 3
   },
   "file_extension": ".py",
   "mimetype": "text/x-python",
   "name": "python",
   "nbconvert_exporter": "python",
   "pygments_lexer": "ipython3",
   "version": "3.6.1"
  }
 },
 "nbformat": 4,
 "nbformat_minor": 2
}
